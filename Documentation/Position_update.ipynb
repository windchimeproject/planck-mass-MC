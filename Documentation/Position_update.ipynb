{
 "cells": [
  {
   "cell_type": "code",
   "execution_count": 2,
   "metadata": {},
   "outputs": [],
   "source": [
    "import json\n",
    "import uuid\n",
    "import numpy as np\n",
    "from tqdm import tqdm\n",
    "from planckmc.config import CONFIG"
   ]
  },
  {
   "cell_type": "code",
   "execution_count": 3,
   "metadata": {},
   "outputs": [],
   "source": [
    "#The warning on Response_Update stands here as well; this code is to get started with detector building, but many features are still missing\n",
    "#(particularly in the other two updates)\n",
    "\n",
    "Version = 4 # This should be the same as the version in config.ini\n",
    "\n",
    "# Make sure these three are even\n",
    "Sensors_X = 4\n",
    "Sensors_Y = 4\n",
    "Sensors_Z = 4\n",
    "\n",
    "# These Three Determine the Detector Structure\n",
    "Dist_btw_Sen_X = 2\n",
    "Dist_btw_Sen_Y = 2\n",
    "Dist_btw_Sen_Z = 2\n",
    "\n",
    "# NOTE: The sensor positions will be on multiples of the two value sets above PLUS 1. So, for example, with Sensors_X = 4 and Dist_btw_Sen_X = 2,\n",
    "# the first sensor will be placed at (-(4/2) * 2) + 1 = -3. The subsequent positions of this setup would be -1, 1, and 3, giving the 4 sensors\n",
    "\n",
    "# Make sure to update config.ini with the correct sphere radius (The edge of the detector (e.g. in X) is given by: mag((-Sesnors_X / 2) * Dist_btw_Sen_X) + 1) or (((Sensors_X / 2) - 1) * Dist_btw_Sen_X) + 1\n",
    "\n",
    "# The serial number is set to 6 unique alphanumeric digits, covering ~2.5 billions possible sensor combinations\n",
    "\n",
    "# There are also data inputs in Response_Update"
   ]
  },
  {
   "cell_type": "code",
   "execution_count": 4,
   "metadata": {},
   "outputs": [],
   "source": [
    "_VERSION = int(CONFIG['Detector Config']['Version'])\n",
    "\n",
    "if Version != _VERSION:\n",
    "    raise ValueError(\"You are running the incorrect version of the configuration file.\\nExiting.\")\n",
    "\n",
    "if Sensors_X % 2 != 0 or Sensors_Y % 2 != 0 or Sensors_Z % 2 != 0:\n",
    "    raise ValueError(\"Please input an even number of sensors in each dimension\")\n",
    "\n",
    "\n",
    "dictionary = {\"version\": Version, \"sensors\": 0, \"detectors\": []}\n",
    "json_object = json.dumps(dictionary)\n",
    "with open(\"position.json\", \"w\") as outfile: \n",
    "    outfile.write(json_object)\n",
    "\n",
    "with open('position.json') as position:\n",
    "    data = json.load(position)\n",
    "\n",
    "serial = []\n",
    "for x in range(0,Sensors_X*Sensors_Y*Sensors_Z):\n",
    "    random = str(uuid.uuid4())\n",
    "    random = random.upper()\n",
    "    random = random.replace(\"-\",\"\") # Remove the UUID '-'\n",
    "    serial.append(random[0:6])\n",
    "    for line in enumerate(serial):\n",
    "        if x == line[0]:\n",
    "            continue\n",
    "        else:\n",
    "            while serial[x] == serial[line[0]]:\n",
    "                random = str(uuid.uuid4())\n",
    "                random = random.upper()\n",
    "                random = random.replace(\"-\",\"\") # Remove the UUID '-'\n",
    "                serial[x] = random[0:6]\n",
    "\n",
    "# sensor locations in m\n",
    "for y_val in range(-int(Sensors_Y/2),int(Sensors_Y/2)):\n",
    "    for x_val in range(-int(Sensors_X/2),int(Sensors_X/2)):\n",
    "        for z_val in range(-int(Sensors_Z/2),int(Sensors_Z/2)):\n",
    "            indx=z_val + x_val*Sensors_Z + y_val*Sensors_X*Sensors_Z + (int(Sensors_Z/2) + int(Sensors_X/2)*Sensors_Z + int(Sensors_Y/2)*Sensors_X*Sensors_Z)\n",
    "            a_dictionary = {'serial': serial[indx], 'x': x_val * Dist_btw_Sen_X + 1, 'y': y_val * Dist_btw_Sen_Y + 1, 'z': z_val * Dist_btw_Sen_Z + 1}\n",
    "            data['detectors'].append(a_dictionary)\n",
    "\n",
    "data['sensors'] = len(data['detectors'])\n",
    "\n",
    "json_object_app = json.dumps(data, indent = 4) \n",
    "with open(\"position.json\", \"w\") as outfile: \n",
    "    outfile.write(json_object_app)\n"
   ]
  },
  {
   "cell_type": "code",
   "execution_count": 8,
   "metadata": {},
   "outputs": [],
   "source": [
    "#Serial Number Uniqueness Check\n",
    "\n",
    "for line in enumerate(data['detectors']):\n",
    "    for line2 in enumerate(data['detectors']):\n",
    "        if line == line2:\n",
    "            continue\n",
    "        elif data['detectors'][line[0]]['serial'] == data['detectors'][line2[0]]['serial']:\n",
    "            print(data['detectors'][line[0]]['serial'] + 'shoot' + data['detectors'][line2[0]]['serial'])"
   ]
  },
  {
   "cell_type": "code",
   "execution_count": null,
   "metadata": {},
   "outputs": [],
   "source": []
  }
 ],
 "metadata": {
  "kernelspec": {
   "display_name": "Python 3",
   "language": "python",
   "name": "python3"
  },
  "language_info": {
   "codemirror_mode": {
    "name": "ipython",
    "version": 3
   },
   "file_extension": ".py",
   "mimetype": "text/x-python",
   "name": "python",
   "nbconvert_exporter": "python",
   "pygments_lexer": "ipython3",
   "version": "3.7.6"
  }
 },
 "nbformat": 4,
 "nbformat_minor": 4
}
