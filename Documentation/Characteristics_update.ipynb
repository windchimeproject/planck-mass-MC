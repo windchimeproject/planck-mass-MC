{
 "cells": [
  {
   "cell_type": "code",
   "execution_count": 1,
   "metadata": {},
   "outputs": [],
   "source": [
    "# Run this after Position_Update\n",
    "import json\n",
    "import uuid\n",
    "import numpy as np\n",
    "from tqdm import tqdm"
   ]
  },
  {
   "cell_type": "code",
   "execution_count": 2,
   "metadata": {},
   "outputs": [],
   "source": [
    "with open('position.json') as Position:\n",
    "    data = json.load(Position)\n",
    "\n",
    "dictionary = {\"version\": data['version'], \"sensors\": 0, \"detectors\": []}\n",
    "json_object = json.dumps(dictionary)\n",
    "with open(\"characteristics.json\", \"w\") as outfile: \n",
    "    outfile.write(json_object)\n",
    "\n",
    "with open('characteristics.json') as Char:\n",
    "    data2 = json.load(Char)\n",
    "\n",
    "serial = []\n",
    "\n",
    "for x in range(0,len(data['detectors'])):\n",
    "    serial.append(data['detectors'][x]['serial'])\n",
    "\n",
    "for x2 in range(0,len(data['detectors'])):\n",
    "    a_dictionary = {'serial': serial[x2], 'x_orien':1, 'y_orien':0, 'z_orien':0, 'x_sens':1, 'y_sens':1, 'z_sens':1, 'x_noise':0.02, 'y_noise':0.02, 'z_noise':0.02}\n",
    "    data2['detectors'].append(a_dictionary)\n",
    "\n",
    "data2['sensors'] = len(data2['detectors'])\n",
    "\n",
    "json_object_app = json.dumps(data2, indent = 4) \n",
    "with open(\"characteristics.json\", \"w\") as outfile: \n",
    "    outfile.write(json_object_app)\n"
   ]
  },
  {
   "cell_type": "code",
   "execution_count": null,
   "metadata": {},
   "outputs": [],
   "source": []
  }
 ],
 "metadata": {
  "kernelspec": {
   "display_name": "Python 3",
   "language": "python",
   "name": "python3"
  },
  "language_info": {
   "codemirror_mode": {
    "name": "ipython",
    "version": 3
   },
   "file_extension": ".py",
   "mimetype": "text/x-python",
   "name": "python",
   "nbconvert_exporter": "python",
   "pygments_lexer": "ipython3",
   "version": "3.7.6"
  }
 },
 "nbformat": 4,
 "nbformat_minor": 4
}
